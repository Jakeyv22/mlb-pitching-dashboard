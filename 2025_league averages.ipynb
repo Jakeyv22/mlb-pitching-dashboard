{
 "cells": [
  {
   "cell_type": "markdown",
   "metadata": {},
   "source": [
    "# 2025 League Averages"
   ]
  },
  {
   "cell_type": "markdown",
   "metadata": {},
   "source": [
    "Import Previous Data"
   ]
  },
  {
   "cell_type": "code",
   "execution_count": 26,
   "metadata": {},
   "outputs": [],
   "source": [
    "import pandas as pd\n",
    "import numpy as np\n",
    "import pybaseball as pyb\n",
    "from datetime import datetime, timedelta\n",
    "\n",
    "statcast = pd.read_csv('statcast_2025.csv')\n",
    "statcast['game_date'] = pd.to_datetime(statcast['game_date'])"
   ]
  },
  {
   "cell_type": "markdown",
   "metadata": {},
   "source": [
    "Find Last Day that was Scraped and Scrape New Data"
   ]
  },
  {
   "cell_type": "code",
   "execution_count": 27,
   "metadata": {},
   "outputs": [
    {
     "name": "stdout",
     "output_type": "stream",
     "text": [
      "This is a large query, it may take a moment to complete\n"
     ]
    },
    {
     "name": "stderr",
     "output_type": "stream",
     "text": [
      " 33%|███▎      | 1/3 [00:00<00:00,  3.21it/s]c:\\Users\\jakev\\anaconda3\\Lib\\site-packages\\pybaseball\\datahelpers\\postprocessing.py:59: FutureWarning: errors='ignore' is deprecated and will raise in a future version. Use to_datetime without passing `errors` and catch exceptions explicitly instead\n",
      "  data_copy[column] = data_copy[column].apply(pd.to_datetime, errors='ignore', format=date_format)\n",
      " 67%|██████▋   | 2/3 [00:04<00:02,  2.79s/it]c:\\Users\\jakev\\anaconda3\\Lib\\site-packages\\pybaseball\\datahelpers\\postprocessing.py:59: FutureWarning: errors='ignore' is deprecated and will raise in a future version. Use to_datetime without passing `errors` and catch exceptions explicitly instead\n",
      "  data_copy[column] = data_copy[column].apply(pd.to_datetime, errors='ignore', format=date_format)\n",
      "100%|██████████| 3/3 [00:05<00:00,  1.88s/it]\n",
      "c:\\Users\\jakev\\anaconda3\\Lib\\site-packages\\pybaseball\\statcast.py:85: FutureWarning: The behavior of DataFrame concatenation with empty or all-NA entries is deprecated. In a future version, this will no longer exclude empty or all-NA columns when determining the result dtypes. To retain the old behavior, exclude the relevant entries before the concat operation.\n",
      "  final_data = pd.concat(dataframe_list, axis=0).convert_dtypes(convert_string=False)\n"
     ]
    }
   ],
   "source": [
    "last_day = statcast['game_date'].sort_values(ascending=False).unique()[0]\n",
    "next_day = (last_day + timedelta(days=1)).strftime('%Y-%m-%d')\n",
    "\n",
    "new_data = pyb.statcast(start_dt=next_day, end_dt=datetime.today().strftime('%Y-%m-%d'))"
   ]
  },
  {
   "cell_type": "code",
   "execution_count": 28,
   "metadata": {},
   "outputs": [
    {
     "data": {
      "text/plain": [
       "'2025-05-02'"
      ]
     },
     "execution_count": 28,
     "metadata": {},
     "output_type": "execute_result"
    }
   ],
   "source": [
    "next_day"
   ]
  },
  {
   "cell_type": "markdown",
   "metadata": {},
   "source": [
    "Clean the New Data and Add a Batting/Pitching Team Column"
   ]
  },
  {
   "cell_type": "code",
   "execution_count": 29,
   "metadata": {},
   "outputs": [],
   "source": [
    "new_data = new_data[new_data['game_type'] == 'R']\n",
    "new_data['pitching_team'] = np.where(\n",
    "    new_data['inning_topbot'] == 'Top',\n",
    "    new_data['home_team'],\n",
    "    new_data['away_team']\n",
    ")\n",
    "new_data['batting_team'] = np.where(\n",
    "    new_data['inning_topbot'] == 'Top',\n",
    "    new_data['away_team'],\n",
    "    new_data['home_team']\n",
    ")"
   ]
  },
  {
   "cell_type": "markdown",
   "metadata": {},
   "source": [
    "Concatenate the New Data into Statcast"
   ]
  },
  {
   "cell_type": "code",
   "execution_count": 30,
   "metadata": {},
   "outputs": [
    {
     "name": "stderr",
     "output_type": "stream",
     "text": [
      "C:\\Users\\jakev\\AppData\\Local\\Temp\\ipykernel_11992\\1211681251.py:1: FutureWarning: The behavior of DataFrame concatenation with empty or all-NA entries is deprecated. In a future version, this will no longer exclude empty or all-NA columns when determining the result dtypes. To retain the old behavior, exclude the relevant entries before the concat operation.\n",
      "  statcast = pd.concat([statcast, new_data], ignore_index=True)\n"
     ]
    }
   ],
   "source": [
    "statcast = pd.concat([statcast, new_data], ignore_index=True)"
   ]
  },
  {
   "cell_type": "markdown",
   "metadata": {},
   "source": [
    "Write to CSV"
   ]
  },
  {
   "cell_type": "code",
   "execution_count": 31,
   "metadata": {},
   "outputs": [],
   "source": [
    "statcast.to_csv('statcast_2025.csv', index=False)"
   ]
  },
  {
   "cell_type": "markdown",
   "metadata": {},
   "source": [
    "## Compile League Average Pitch Movement by Handedness"
   ]
  },
  {
   "cell_type": "code",
   "execution_count": 32,
   "metadata": {},
   "outputs": [],
   "source": [
    "pitch_movement = statcast.groupby(['pitch_type', 'p_throws']).agg(\n",
    "    pfx_z=('pfx_z', 'mean'),\n",
    "    pfx_x=('pfx_x', 'mean')).reset_index()\n",
    "\n",
    "pitch_movement['pfx_x'] *= 12\n",
    "pitch_movement['pfx_z'] *= 12"
   ]
  },
  {
   "cell_type": "code",
   "execution_count": 33,
   "metadata": {},
   "outputs": [],
   "source": [
    "pitch_movement.to_csv('statcast_2025_pitch_movement.csv', index=False)"
   ]
  },
  {
   "cell_type": "markdown",
   "metadata": {},
   "source": [
    "## Compile League Averages"
   ]
  },
  {
   "cell_type": "code",
   "execution_count": 34,
   "metadata": {},
   "outputs": [],
   "source": [
    "swing_desc = ['hit_into_play', 'swinging_strike', 'foul', 'swinging_strike_blocked', 'foul_tip', 'foul_bunt', 'missed_bunt', 'bunt_foul_tip']\n",
    "whiff_desc = ['swinging_strike', 'swinging_strike_blocked', 'missed_bunt']\n",
    "in_zone_desc =  list(range(1, 10))\n",
    "out_zone_desc = [11,12,13,14]\n",
    "\n",
    "statcast['swing'] = statcast['description'].isin(swing_desc)\n",
    "statcast['whiff'] = statcast['description'].isin(whiff_desc)\n",
    "statcast['in_zone'] = statcast['zone'].isin(in_zone_desc)\n",
    "statcast['out_zone'] = statcast['zone'].isin(out_zone_desc)\n",
    "statcast['chase'] = statcast['swing'] & statcast['out_zone']"
   ]
  },
  {
   "cell_type": "code",
   "execution_count": 35,
   "metadata": {},
   "outputs": [],
   "source": [
    "statcast_group = statcast.groupby('pitch_type').agg(\n",
    "    pitch=('release_speed', 'count'),\n",
    "    release_speed=('release_speed', 'mean'),\n",
    "    pfx_z=('pfx_z', 'mean'),\n",
    "    pfx_x=('pfx_x', 'mean'),\n",
    "    release_spin_rate=('release_spin_rate', 'mean'),\n",
    "    release_pos_x=('release_pos_x', 'mean'),\n",
    "    release_pos_z=('release_pos_z', 'mean'),\n",
    "    release_extension=('release_extension', 'mean'),\n",
    "    delta_run_exp=('delta_run_exp', 'sum'),\n",
    "    swing=('swing', 'sum'),\n",
    "    whiff=('whiff', 'sum'),\n",
    "    in_zone=('in_zone', 'sum'),\n",
    "    out_zone=('out_zone','sum'),\n",
    "    chase=('chase','sum'),\n",
    "    xwoba=('estimated_woba_using_speedangle', 'mean')\n",
    ").reset_index()\n",
    "\n",
    "# Filter for balls in play\n",
    "in_play = statcast[statcast['type'] == 'X']\n",
    "\n",
    "# Calculate xwOBAcon for each pitch type\n",
    "xwobacon_group = in_play.groupby('pitch_type')['estimated_woba_using_speedangle'].mean().reset_index()\n",
    "xwobacon_group.rename(columns={'estimated_woba_using_speedangle': 'xwobacon'}, inplace=True)\n",
    "\n",
    "# Merge with the main statcast_group\n",
    "statcast_group = statcast_group.merge(xwobacon_group, on='pitch_type', how='left')\n",
    "\n",
    "statcast_group['pfx_x'] *= 12\n",
    "statcast_group['pfx_z'] *= 12\n",
    "statcast_group['pitch_usage'] = statcast_group['pitch'] / statcast_group['pitch'].sum()\n",
    "statcast_group['whiff_rate'] = statcast_group['whiff'] / statcast_group['swing']\n",
    "statcast_group['in_zone_rate'] = statcast_group['in_zone'] / statcast_group['pitch']\n",
    "statcast_group['chase_rate'] = statcast_group['chase'] / statcast_group['out_zone']\n",
    "statcast_group['delta_run_exp_per_100'] = -statcast_group['delta_run_exp'] / statcast_group['pitch'] * 100"
   ]
  },
  {
   "cell_type": "code",
   "execution_count": 36,
   "metadata": {},
   "outputs": [],
   "source": [
    "xwobacon_all = statcast[statcast['type'] == 'X']['estimated_woba_using_speedangle'].mean()\n",
    "\n",
    "all_row = pd.DataFrame({\n",
    "    'pitch_type': ['All'],\n",
    "    'pitch': [statcast['release_speed'].count()],\n",
    "    'release_speed': [statcast['release_speed'].mean()],\n",
    "    'pfx_z': [statcast['pfx_z'].mean() * 12],\n",
    "    'pfx_x': [statcast['pfx_x'].mean() * 12],\n",
    "    'release_spin_rate': [statcast['release_spin_rate'].mean()],\n",
    "    'release_pos_x': [statcast['release_pos_x'].mean()],\n",
    "    'release_pos_z': [statcast['release_pos_z'].mean()],\n",
    "    'release_extension': [statcast['release_extension'].mean()],\n",
    "    'delta_run_exp': [statcast['delta_run_exp'].sum()],\n",
    "    'swing': [statcast['swing'].sum()],\n",
    "    'whiff': [statcast['whiff'].sum()],\n",
    "    'in_zone': [statcast['in_zone'].sum()],\n",
    "    'out_zone': [statcast['out_zone'].sum()],\n",
    "    'chase': [statcast['chase'].sum()],\n",
    "    'xwoba': [statcast['estimated_woba_using_speedangle'].mean()],\n",
    "    'xwobacon': [xwobacon_all]\n",
    "})\n",
    "\n",
    "all_row['pitch_usage'] = 1.0\n",
    "all_row['whiff_rate'] = all_row['whiff'] / all_row['swing']\n",
    "all_row['in_zone_rate'] = all_row['in_zone'] / all_row['pitch']\n",
    "all_row['chase_rate'] = all_row['chase'] / all_row['out_zone']\n",
    "all_row['delta_run_exp_per_100'] = -all_row['delta_run_exp'] / all_row['pitch'] * 100\n",
    "\n",
    "statcast_group = pd.concat([statcast_group, all_row], ignore_index=True)"
   ]
  },
  {
   "cell_type": "code",
   "execution_count": 37,
   "metadata": {},
   "outputs": [],
   "source": [
    "statcast_group.to_csv('statcast_2025_grouped.csv', index=False)"
   ]
  },
  {
   "cell_type": "markdown",
   "metadata": {},
   "source": [
    "# AAA Data"
   ]
  },
  {
   "cell_type": "markdown",
   "metadata": {},
   "source": [
    "Import Previous Data"
   ]
  },
  {
   "cell_type": "code",
   "execution_count": 38,
   "metadata": {},
   "outputs": [],
   "source": [
    "import statcast_minors as sm\n",
    "\n",
    "statcast = pd.read_csv('statcast_2025_aaa.csv')\n",
    "statcast['game_date'] = pd.to_datetime(statcast['game_date'])"
   ]
  },
  {
   "cell_type": "markdown",
   "metadata": {},
   "source": [
    "Find Last Day that was Scraped and Scrape New Data"
   ]
  },
  {
   "cell_type": "code",
   "execution_count": 39,
   "metadata": {},
   "outputs": [
    {
     "name": "stdout",
     "output_type": "stream",
     "text": [
      "2025-05-04\n"
     ]
    }
   ],
   "source": [
    "last_day = statcast['game_date'].sort_values(ascending=False).unique()[0]\n",
    "next_day = (last_day + timedelta(days=1)).strftime('%Y-%m-%d')\n",
    "print(next_day)\n",
    "\n",
    "new_data = sm.statcast_minor_leagues(start_dt=next_day, end_dt=datetime.today().strftime('%Y-%m-%d'))\n",
    "new_data = new_data.drop('index', axis=1)"
   ]
  },
  {
   "cell_type": "markdown",
   "metadata": {},
   "source": [
    "Clean the New Data and Add a Batting/Pitching Team Column"
   ]
  },
  {
   "cell_type": "code",
   "execution_count": 40,
   "metadata": {},
   "outputs": [],
   "source": [
    "aaa_teams = ['ABQ', 'BUF', 'CLT', 'COL', 'DUR', 'ELP', 'GWN', 'IND', 'IOW', 'JAX', 'LV', 'LHV',\n",
    "             'LOU', 'MEM', 'NAS', 'NOR', 'OKC', 'OMA', 'RNO', 'ROC', 'RR', 'SAC', 'SL', 'SWB',\n",
    "             'STP', 'SUG', 'SYR', 'TAC', 'TOL', 'WOR']\n",
    "\n",
    "new_data = new_data[new_data['home_team'].isin(aaa_teams)]\n",
    "\n",
    "new_data['pitching_team'] = np.where(\n",
    "    new_data['inning_topbot'] == 'Top',\n",
    "    new_data['home_team'],\n",
    "    new_data['away_team']\n",
    ")\n",
    "new_data['batting_team'] = np.where(\n",
    "    new_data['inning_topbot'] == 'Top',\n",
    "    new_data['away_team'],\n",
    "    new_data['home_team'])"
   ]
  },
  {
   "cell_type": "markdown",
   "metadata": {},
   "source": [
    "Concatenate the New Data into statcast"
   ]
  },
  {
   "cell_type": "code",
   "execution_count": 41,
   "metadata": {},
   "outputs": [
    {
     "name": "stderr",
     "output_type": "stream",
     "text": [
      "C:\\Users\\jakev\\AppData\\Local\\Temp\\ipykernel_11992\\3491133736.py:1: FutureWarning: The behavior of DataFrame concatenation with empty or all-NA entries is deprecated. In a future version, this will no longer exclude empty or all-NA columns when determining the result dtypes. To retain the old behavior, exclude the relevant entries before the concat operation.\n",
      "  statcast = pd.concat([statcast, new_data], ignore_index=True)\n"
     ]
    }
   ],
   "source": [
    "statcast = pd.concat([statcast, new_data], ignore_index=True)\n",
    "\n",
    "statcast['pitcher'] = statcast['pitcher'].astype(int)\n",
    "statcast['batter'] = statcast['batter'].astype(int)"
   ]
  },
  {
   "cell_type": "markdown",
   "metadata": {},
   "source": [
    "Write to CSV"
   ]
  },
  {
   "cell_type": "code",
   "execution_count": 42,
   "metadata": {},
   "outputs": [],
   "source": [
    "statcast.to_csv('statcast_2025_aaa.csv', index=False)"
   ]
  },
  {
   "cell_type": "markdown",
   "metadata": {},
   "source": [
    "## Compile League Average Pitch Movement by Handedness"
   ]
  },
  {
   "cell_type": "code",
   "execution_count": 43,
   "metadata": {},
   "outputs": [],
   "source": [
    "pitch_movement = statcast.groupby(['pitch_type', 'p_throws']).agg(\n",
    "    pfx_z=('pfx_z', 'mean'),\n",
    "    pfx_x=('pfx_x', 'mean')).reset_index()\n",
    "\n",
    "pitch_movement['pfx_x'] *= 12\n",
    "pitch_movement['pfx_z'] *= 12"
   ]
  },
  {
   "cell_type": "code",
   "execution_count": 44,
   "metadata": {},
   "outputs": [],
   "source": [
    "pitch_movement.to_csv('statcast_2025_pitch_movement_aaa.csv', index=False)"
   ]
  },
  {
   "cell_type": "markdown",
   "metadata": {},
   "source": [
    "## Compile League Averages"
   ]
  },
  {
   "cell_type": "code",
   "execution_count": 45,
   "metadata": {},
   "outputs": [],
   "source": [
    "swing_desc = ['hit_into_play', 'swinging_strike', 'foul', 'swinging_strike_blocked', 'foul_tip', 'foul_bunt', 'missed_bunt', 'bunt_foul_tip']\n",
    "whiff_desc = ['swinging_strike', 'swinging_strike_blocked', 'missed_bunt']\n",
    "in_zone_desc =  list(range(1, 10))\n",
    "out_zone_desc = [11,12,13,14]\n",
    "\n",
    "statcast['swing'] = statcast['description'].isin(swing_desc)\n",
    "statcast['whiff'] = statcast['description'].isin(whiff_desc)\n",
    "statcast['in_zone'] = statcast['zone'].isin(in_zone_desc)\n",
    "statcast['out_zone'] = statcast['zone'].isin(out_zone_desc)\n",
    "statcast['chase'] = statcast['swing'] & statcast['out_zone']"
   ]
  },
  {
   "cell_type": "code",
   "execution_count": 46,
   "metadata": {},
   "outputs": [],
   "source": [
    "statcast_group = statcast.groupby('pitch_type').agg(\n",
    "    pitch=('release_speed', 'count'),\n",
    "    release_speed=('release_speed', 'mean'),\n",
    "    pfx_z=('pfx_z', 'mean'),\n",
    "    pfx_x=('pfx_x', 'mean'),\n",
    "    release_spin_rate=('release_spin_rate', 'mean'),\n",
    "    release_pos_x=('release_pos_x', 'mean'),\n",
    "    release_pos_z=('release_pos_z', 'mean'),\n",
    "    release_extension=('release_extension', 'mean'),\n",
    "    delta_run_exp=('delta_run_exp', 'sum'),\n",
    "    swing=('swing', 'sum'),\n",
    "    whiff=('whiff', 'sum'),\n",
    "    in_zone=('in_zone', 'sum'),\n",
    "    out_zone=('out_zone','sum'),\n",
    "    chase=('chase','sum'),\n",
    "    xwoba=('estimated_woba_using_speedangle', 'mean')\n",
    ").reset_index()\n",
    "\n",
    "# Filter for balls in play\n",
    "in_play = statcast[statcast['type'] == 'X']\n",
    "\n",
    "# Calculate xwOBAcon for each pitch type\n",
    "xwobacon_group = in_play.groupby('pitch_type')['estimated_woba_using_speedangle'].mean().reset_index()\n",
    "xwobacon_group.rename(columns={'estimated_woba_using_speedangle': 'xwobacon'}, inplace=True)\n",
    "\n",
    "# Merge with the main statcast_group\n",
    "statcast_group = statcast_group.merge(xwobacon_group, on='pitch_type', how='left')\n",
    "\n",
    "statcast_group['pfx_x'] *= 12\n",
    "statcast_group['pfx_z'] *= 12\n",
    "statcast_group['pitch_usage'] = statcast_group['pitch'] / statcast_group['pitch'].sum()\n",
    "statcast_group['whiff_rate'] = statcast_group['whiff'] / statcast_group['swing']\n",
    "statcast_group['in_zone_rate'] = statcast_group['in_zone'] / statcast_group['pitch']\n",
    "statcast_group['chase_rate'] = statcast_group['chase'] / statcast_group['out_zone']\n",
    "statcast_group['delta_run_exp_per_100'] = -statcast_group['delta_run_exp'] / statcast_group['pitch'] * 100"
   ]
  },
  {
   "cell_type": "code",
   "execution_count": 47,
   "metadata": {},
   "outputs": [],
   "source": [
    "xwobacon_all = statcast[statcast['type'] == 'X']['estimated_woba_using_speedangle'].mean()\n",
    "\n",
    "all_row = pd.DataFrame({\n",
    "    'pitch_type': ['All'],\n",
    "    'pitch': [statcast['release_speed'].count()],\n",
    "    'release_speed': [statcast['release_speed'].mean()],\n",
    "    'pfx_z': [statcast['pfx_z'].mean() * 12],\n",
    "    'pfx_x': [statcast['pfx_x'].mean() * 12],\n",
    "    'release_spin_rate': [statcast['release_spin_rate'].mean()],\n",
    "    'release_pos_x': [statcast['release_pos_x'].mean()],\n",
    "    'release_pos_z': [statcast['release_pos_z'].mean()],\n",
    "    'release_extension': [statcast['release_extension'].mean()],\n",
    "    'delta_run_exp': [statcast['delta_run_exp'].sum()],\n",
    "    'swing': [statcast['swing'].sum()],\n",
    "    'whiff': [statcast['whiff'].sum()],\n",
    "    'in_zone': [statcast['in_zone'].sum()],\n",
    "    'out_zone': [statcast['out_zone'].sum()],\n",
    "    'chase': [statcast['chase'].sum()],\n",
    "    'xwoba': [statcast['estimated_woba_using_speedangle'].mean()],\n",
    "    'xwobacon': [xwobacon_all]\n",
    "})\n",
    "\n",
    "all_row['pitch_usage'] = 1.0\n",
    "all_row['whiff_rate'] = all_row['whiff'] / all_row['swing']\n",
    "all_row['in_zone_rate'] = all_row['in_zone'] / all_row['pitch']\n",
    "all_row['chase_rate'] = all_row['chase'] / all_row['out_zone']\n",
    "all_row['delta_run_exp_per_100'] = -all_row['delta_run_exp'] / all_row['pitch'] * 100\n",
    "\n",
    "statcast_group = pd.concat([statcast_group, all_row], ignore_index=True)"
   ]
  },
  {
   "cell_type": "code",
   "execution_count": 48,
   "metadata": {},
   "outputs": [],
   "source": [
    "statcast_group.to_csv('statcast_2025_grouped_aaa.csv', index=False)"
   ]
  },
  {
   "cell_type": "markdown",
   "metadata": {},
   "source": [
    "# FSL Data"
   ]
  },
  {
   "cell_type": "markdown",
   "metadata": {},
   "source": [
    "Import Previous Data"
   ]
  },
  {
   "cell_type": "code",
   "execution_count": 49,
   "metadata": {},
   "outputs": [],
   "source": [
    "import statcast_minors as sm\n",
    "\n",
    "statcast = pd.read_csv('statcast_2025_fsl.csv')\n",
    "statcast['game_date'] = pd.to_datetime(statcast['game_date'])"
   ]
  },
  {
   "cell_type": "markdown",
   "metadata": {},
   "source": [
    "Find Last Day that was Scraped and Scrape New Data"
   ]
  },
  {
   "cell_type": "code",
   "execution_count": 50,
   "metadata": {},
   "outputs": [
    {
     "name": "stdout",
     "output_type": "stream",
     "text": [
      "2025-05-04\n"
     ]
    }
   ],
   "source": [
    "last_day = statcast['game_date'].sort_values(ascending=False).unique()[0]\n",
    "next_day = (last_day + timedelta(days=1)).strftime('%Y-%m-%d')\n",
    "print(next_day)\n",
    "\n",
    "new_data = sm.statcast_minor_leagues(start_dt=next_day, end_dt=datetime.today().strftime('%Y-%m-%d'))\n",
    "new_data = new_data.drop('index', axis=1)"
   ]
  },
  {
   "cell_type": "markdown",
   "metadata": {},
   "source": [
    "Clean the New Data and Add a Batting/Pitching Team Column"
   ]
  },
  {
   "cell_type": "code",
   "execution_count": 51,
   "metadata": {},
   "outputs": [],
   "source": [
    "# Florida State League (FSL) teams\n",
    "fsl_teams = ['BRD', 'CLR', 'DBT', 'DUN', 'FTM', 'JUP', 'LAK', 'PMB', 'SLU', 'TAM']\n",
    "\n",
    "new_data = new_data[new_data['home_team'].isin(aaa_teams)]\n",
    "\n",
    "new_data['pitching_team'] = np.where(\n",
    "    new_data['inning_topbot'] == 'Top',\n",
    "    new_data['home_team'],\n",
    "    new_data['away_team']\n",
    ")\n",
    "new_data['batting_team'] = np.where(\n",
    "    new_data['inning_topbot'] == 'Top',\n",
    "    new_data['away_team'],\n",
    "    new_data['home_team'])"
   ]
  },
  {
   "cell_type": "markdown",
   "metadata": {},
   "source": [
    "Concatenate the New Data into statcast"
   ]
  },
  {
   "cell_type": "code",
   "execution_count": 52,
   "metadata": {},
   "outputs": [
    {
     "name": "stderr",
     "output_type": "stream",
     "text": [
      "C:\\Users\\jakev\\AppData\\Local\\Temp\\ipykernel_11992\\3491133736.py:1: FutureWarning: The behavior of DataFrame concatenation with empty or all-NA entries is deprecated. In a future version, this will no longer exclude empty or all-NA columns when determining the result dtypes. To retain the old behavior, exclude the relevant entries before the concat operation.\n",
      "  statcast = pd.concat([statcast, new_data], ignore_index=True)\n"
     ]
    }
   ],
   "source": [
    "statcast = pd.concat([statcast, new_data], ignore_index=True)\n",
    "\n",
    "statcast['pitcher'] = statcast['pitcher'].astype(int)\n",
    "statcast['batter'] = statcast['batter'].astype(int)"
   ]
  },
  {
   "cell_type": "markdown",
   "metadata": {},
   "source": [
    "Write to CSV"
   ]
  },
  {
   "cell_type": "code",
   "execution_count": 53,
   "metadata": {},
   "outputs": [],
   "source": [
    "statcast.to_csv('statcast_2025_fsl.csv', index=False)"
   ]
  },
  {
   "cell_type": "markdown",
   "metadata": {},
   "source": [
    "## Compile League Average Pitch Movement by Handedness"
   ]
  },
  {
   "cell_type": "code",
   "execution_count": 54,
   "metadata": {},
   "outputs": [],
   "source": [
    "pitch_movement = statcast.groupby(['pitch_type', 'p_throws']).agg(\n",
    "    pfx_z=('pfx_z', 'mean'),\n",
    "    pfx_x=('pfx_x', 'mean')).reset_index()\n",
    "\n",
    "pitch_movement['pfx_x'] *= 12\n",
    "pitch_movement['pfx_z'] *= 12"
   ]
  },
  {
   "cell_type": "code",
   "execution_count": 55,
   "metadata": {},
   "outputs": [],
   "source": [
    "pitch_movement.to_csv('statcast_2025_pitch_movement_fsl.csv', index=False)"
   ]
  },
  {
   "cell_type": "markdown",
   "metadata": {},
   "source": [
    "## Compile League Averages"
   ]
  },
  {
   "cell_type": "code",
   "execution_count": 56,
   "metadata": {},
   "outputs": [],
   "source": [
    "swing_desc = ['hit_into_play', 'swinging_strike', 'foul', 'swinging_strike_blocked', 'foul_tip', 'foul_bunt', 'missed_bunt', 'bunt_foul_tip']\n",
    "whiff_desc = ['swinging_strike', 'swinging_strike_blocked', 'missed_bunt']\n",
    "in_zone_desc =  list(range(1, 10))\n",
    "out_zone_desc = [11,12,13,14]\n",
    "\n",
    "statcast['swing'] = statcast['description'].isin(swing_desc)\n",
    "statcast['whiff'] = statcast['description'].isin(whiff_desc)\n",
    "statcast['in_zone'] = statcast['zone'].isin(in_zone_desc)\n",
    "statcast['out_zone'] = statcast['zone'].isin(out_zone_desc)\n",
    "statcast['chase'] = statcast['swing'] & statcast['out_zone']"
   ]
  },
  {
   "cell_type": "code",
   "execution_count": 57,
   "metadata": {},
   "outputs": [],
   "source": [
    "statcast_group = statcast.groupby('pitch_type').agg(\n",
    "    pitch=('release_speed', 'count'),\n",
    "    release_speed=('release_speed', 'mean'),\n",
    "    pfx_z=('pfx_z', 'mean'),\n",
    "    pfx_x=('pfx_x', 'mean'),\n",
    "    release_spin_rate=('release_spin_rate', 'mean'),\n",
    "    release_pos_x=('release_pos_x', 'mean'),\n",
    "    release_pos_z=('release_pos_z', 'mean'),\n",
    "    release_extension=('release_extension', 'mean'),\n",
    "    delta_run_exp=('delta_run_exp', 'sum'),\n",
    "    swing=('swing', 'sum'),\n",
    "    whiff=('whiff', 'sum'),\n",
    "    in_zone=('in_zone', 'sum'),\n",
    "    out_zone=('out_zone','sum'),\n",
    "    chase=('chase','sum'),\n",
    "    xwoba=('estimated_woba_using_speedangle', 'mean')\n",
    ").reset_index()\n",
    "\n",
    "# Filter for balls in play\n",
    "in_play = statcast[statcast['type'] == 'X']\n",
    "\n",
    "# Calculate xwOBAcon for each pitch type\n",
    "xwobacon_group = in_play.groupby('pitch_type')['estimated_woba_using_speedangle'].mean().reset_index()\n",
    "xwobacon_group.rename(columns={'estimated_woba_using_speedangle': 'xwobacon'}, inplace=True)\n",
    "\n",
    "# Merge with the main statcast_group\n",
    "statcast_group = statcast_group.merge(xwobacon_group, on='pitch_type', how='left')\n",
    "\n",
    "statcast_group['pfx_x'] *= 12\n",
    "statcast_group['pfx_z'] *= 12\n",
    "statcast_group['pitch_usage'] = statcast_group['pitch'] / statcast_group['pitch'].sum()\n",
    "statcast_group['whiff_rate'] = statcast_group['whiff'] / statcast_group['swing']\n",
    "statcast_group['in_zone_rate'] = statcast_group['in_zone'] / statcast_group['pitch']\n",
    "statcast_group['chase_rate'] = statcast_group['chase'] / statcast_group['out_zone']\n",
    "statcast_group['delta_run_exp_per_100'] = -statcast_group['delta_run_exp'] / statcast_group['pitch'] * 100"
   ]
  },
  {
   "cell_type": "code",
   "execution_count": 58,
   "metadata": {},
   "outputs": [],
   "source": [
    "xwobacon_all = statcast[statcast['type'] == 'X']['estimated_woba_using_speedangle'].mean()\n",
    "\n",
    "all_row = pd.DataFrame({\n",
    "    'pitch_type': ['All'],\n",
    "    'pitch': [statcast['release_speed'].count()],\n",
    "    'release_speed': [statcast['release_speed'].mean()],\n",
    "    'pfx_z': [statcast['pfx_z'].mean() * 12],\n",
    "    'pfx_x': [statcast['pfx_x'].mean() * 12],\n",
    "    'release_spin_rate': [statcast['release_spin_rate'].mean()],\n",
    "    'release_pos_x': [statcast['release_pos_x'].mean()],\n",
    "    'release_pos_z': [statcast['release_pos_z'].mean()],\n",
    "    'release_extension': [statcast['release_extension'].mean()],\n",
    "    'delta_run_exp': [statcast['delta_run_exp'].sum()],\n",
    "    'swing': [statcast['swing'].sum()],\n",
    "    'whiff': [statcast['whiff'].sum()],\n",
    "    'in_zone': [statcast['in_zone'].sum()],\n",
    "    'out_zone': [statcast['out_zone'].sum()],\n",
    "    'chase': [statcast['chase'].sum()],\n",
    "    'xwoba': [statcast['estimated_woba_using_speedangle'].mean()],\n",
    "    'xwobacon': [xwobacon_all]\n",
    "})\n",
    "\n",
    "all_row['pitch_usage'] = 1.0\n",
    "all_row['whiff_rate'] = all_row['whiff'] / all_row['swing']\n",
    "all_row['in_zone_rate'] = all_row['in_zone'] / all_row['pitch']\n",
    "all_row['chase_rate'] = all_row['chase'] / all_row['out_zone']\n",
    "all_row['delta_run_exp_per_100'] = -all_row['delta_run_exp'] / all_row['pitch'] * 100\n",
    "\n",
    "statcast_group = pd.concat([statcast_group, all_row], ignore_index=True)"
   ]
  },
  {
   "cell_type": "code",
   "execution_count": 59,
   "metadata": {},
   "outputs": [],
   "source": [
    "statcast_group.to_csv('statcast_2025_grouped_fsl.csv', index=False)"
   ]
  }
 ],
 "metadata": {
  "kernelspec": {
   "display_name": "base",
   "language": "python",
   "name": "python3"
  },
  "language_info": {
   "codemirror_mode": {
    "name": "ipython",
    "version": 3
   },
   "file_extension": ".py",
   "mimetype": "text/x-python",
   "name": "python",
   "nbconvert_exporter": "python",
   "pygments_lexer": "ipython3",
   "version": "3.11.11"
  }
 },
 "nbformat": 4,
 "nbformat_minor": 2
}
